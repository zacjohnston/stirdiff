{
 "cells": [
  {
   "cell_type": "code",
   "execution_count": 13,
   "id": "807d6f8f",
   "metadata": {},
   "outputs": [],
   "source": [
    "import numpy as np\n",
    "import pandas as pd\n",
    "import matplotlib.pyplot as plt \n",
    "import yt\n",
    "\n",
    "batch = 1\n",
    "\n",
    "%matplotlib qt"
   ]
  },
  {
   "cell_type": "markdown",
   "id": "4de5aea6",
   "metadata": {},
   "source": [
    "### Parameter combinations"
   ]
  },
  {
   "cell_type": "code",
   "execution_count": 14,
   "id": "9e1c85b6",
   "metadata": {},
   "outputs": [],
   "source": [
    "al = (0.1, 0.2, 0.4, 0.8, 1.6)\n",
    "dint=(0.001, 0.002, 0.005, 0.01, 0.02)\n",
    "dtrb=(0.042, 0.083, 0.17, 0.33, 0.67)\n",
    "\n",
    "params = []\n",
    "\n",
    "for i in al:\n",
    "    for j in dint:\n",
    "        for k in dtrb:\n",
    "            params += [f'{i}_{j}_{k}']"
   ]
  },
  {
   "cell_type": "markdown",
   "id": "8108075e",
   "metadata": {},
   "source": [
    "### Load 3D profiles"
   ]
  },
  {
   "cell_type": "code",
   "execution_count": 15,
   "id": "7eb3a51f",
   "metadata": {},
   "outputs": [],
   "source": [
    "profile_3d = pd.read_csv('3d/mesa20_v_LR_avg.dat')"
   ]
  },
  {
   "cell_type": "markdown",
   "id": "69b5fb3e",
   "metadata": {},
   "source": [
    "### Load STIR profiles"
   ]
  },
  {
   "cell_type": "code",
   "execution_count": 16,
   "id": "1926728e",
   "metadata": {},
   "outputs": [],
   "source": [
    "def load_cache():\n",
    "    profiles = {}\n",
    "    \n",
    "    for v in params:\n",
    "        profiles[v] = pd.read_csv(f'.temp/profile_batch_{batch}_{v}.csv')\n",
    "    \n",
    "    return profiles"
   ]
  },
  {
   "cell_type": "code",
   "execution_count": 17,
   "id": "e6ca591d",
   "metadata": {},
   "outputs": [],
   "source": [
    "def extract_profiles():\n",
    "    profiles_raw = {}\n",
    "\n",
    "    for v in params:\n",
    "        fpath = f'stir/batch_{batch}/stir_mesa20_{v}_hdf5_chk_0002'\n",
    "        chk = yt.load(fpath).all_data()\n",
    "\n",
    "        p = pd.DataFrame()\n",
    "        p['r'] = chk['r']\n",
    "        p['vcon'] = chk['vcon']\n",
    "\n",
    "        p.to_csv(f'.temp/profile_batch_{batch}_{v}.csv')\n",
    "\n",
    "        profiles_raw[v] = p    \n",
    "    \n",
    "    return profiles_raw"
   ]
  },
  {
   "cell_type": "code",
   "execution_count": 18,
   "id": "65a52f95",
   "metadata": {},
   "outputs": [],
   "source": [
    "def interp(profiles_raw):\n",
    "    profiles = {}\n",
    "    r = np.array(profile_3d['r'])\n",
    "\n",
    "    for v, p in profiles_raw.items():\n",
    "        p2 = pd.DataFrame({'r': r})\n",
    "        p2['vcon'] = np.interp(r, p['r'], p['vcon'])\n",
    "\n",
    "        profiles[v] = p2\n",
    "    \n",
    "    return profiles"
   ]
  },
  {
   "cell_type": "code",
   "execution_count": 19,
   "id": "a2a05a9a",
   "metadata": {},
   "outputs": [],
   "source": [
    "try:\n",
    "    profiles_raw = load_cache()\n",
    "except FileNotFoundError:\n",
    "    profiles_raw = extract_profiles()\n",
    "\n",
    "profiles = interp(profiles_raw)"
   ]
  },
  {
   "cell_type": "markdown",
   "id": "0f791aa1",
   "metadata": {},
   "source": [
    "### Calculate fits"
   ]
  },
  {
   "cell_type": "code",
   "execution_count": 20,
   "id": "4f6ecfe9",
   "metadata": {},
   "outputs": [],
   "source": [
    "l1 = []\n",
    "l2 = []\n",
    "\n",
    "for v, p in profiles.items():\n",
    "    diff = p['vcon'] - profile_3d['vcon']\n",
    "    l1 += [np.linalg.norm(diff, 1)]\n",
    "    l2 += [np.linalg.norm(diff, 2)]\n",
    "    \n",
    "results = pd.DataFrame({'params': params, \n",
    "                        'l1': l1, \n",
    "                        'l2': l2})"
   ]
  },
  {
   "cell_type": "code",
   "execution_count": 21,
   "id": "a85a6df1",
   "metadata": {
    "scrolled": true
   },
   "outputs": [],
   "source": [
    "mins = results.min()\n",
    "\n",
    "min_l1 = results.iloc[results.l1.idxmin()]['params']\n",
    "min_l2 = results.iloc[results.l2.idxmin()]['params']\n",
    "\n",
    "profile_l1 = profiles[min_l1]\n",
    "profile_l2 = profiles[min_l2]"
   ]
  },
  {
   "cell_type": "markdown",
   "id": "8276f2df",
   "metadata": {},
   "source": [
    "### Plot"
   ]
  },
  {
   "cell_type": "code",
   "execution_count": 22,
   "id": "585a90cb",
   "metadata": {},
   "outputs": [
    {
     "data": {
      "text/plain": [
       "<matplotlib.legend.Legend at 0x7f439601a340>"
      ]
     },
     "execution_count": 22,
     "metadata": {},
     "output_type": "execute_result"
    }
   ],
   "source": [
    "fig, ax = plt.subplots()\n",
    "\n",
    "ax.set_xlim([0, 2.5e7])\n",
    "\n",
    "ax.plot(profile_l1['r'], profile_l1['vcon'], label=f'L1: {min_l1}')\n",
    "ax.plot(profile_l2['r'], profile_l2['vcon'], label=f'L2: {min_l2}')\n",
    "\n",
    "ax.plot(profile_3d['r'], profile_3d['vcon'], ls='--', c='k', label='3D')\n",
    "\n",
    "ax.legend()"
   ]
  },
  {
   "cell_type": "code",
   "execution_count": 23,
   "id": "2ef98493",
   "metadata": {
    "scrolled": false
   },
   "outputs": [
    {
     "data": {
      "text/plain": [
       "<matplotlib.legend.Legend at 0x7f43944ad490>"
      ]
     },
     "execution_count": 23,
     "metadata": {},
     "output_type": "execute_result"
    }
   ],
   "source": [
    "fig, ax = plt.subplots()\n",
    "\n",
    "ax.set_xlim([0, 2e7])\n",
    "\n",
    "for p in profiles.values():\n",
    "    ax.plot(p['r'], p['vcon'])\n",
    "\n",
    "ax.plot(profile_3d['r'], profile_3d['vcon'], ls='--', c='k', label='3D')\n",
    "    \n",
    "ax.legend()"
   ]
  },
  {
   "cell_type": "code",
   "execution_count": null,
   "id": "dadc3b8b",
   "metadata": {},
   "outputs": [],
   "source": [
    "\n",
    "\n",
    "\n",
    "\n",
    "\n",
    "\n",
    "\n",
    "\n",
    "\n",
    "\n",
    "\n",
    "\n",
    "\n",
    "\n",
    "\n",
    "\n",
    "\n",
    "\n",
    "\n",
    "\n",
    "\n",
    "\n",
    "\n",
    "\n",
    "\n",
    "\n",
    "\n",
    "\n",
    "\n",
    "\n",
    "\n",
    "\n",
    "\n",
    "\n",
    "\n",
    "\n",
    "\n",
    "\n",
    "\n",
    "\n",
    "\n",
    "\n",
    "\n",
    "\n",
    "\n",
    "\n",
    "\n",
    "\n",
    "\n",
    "\n",
    "\n",
    "\n",
    "\n",
    "\n"
   ]
  }
 ],
 "metadata": {
  "kernelspec": {
   "display_name": "Python 3 (ipykernel)",
   "language": "python",
   "name": "python3"
  },
  "language_info": {
   "codemirror_mode": {
    "name": "ipython",
    "version": 3
   },
   "file_extension": ".py",
   "mimetype": "text/x-python",
   "name": "python",
   "nbconvert_exporter": "python",
   "pygments_lexer": "ipython3",
   "version": "3.8.16"
  }
 },
 "nbformat": 4,
 "nbformat_minor": 5
}
